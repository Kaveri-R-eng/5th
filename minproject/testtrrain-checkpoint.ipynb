{
 "cells": [
  {
   "cell_type": "code",
   "execution_count": 6,
   "id": "bd362d76-f208-4785-9ad3-7703a2493ad2",
   "metadata": {},
   "outputs": [
    {
     "name": "stdout",
     "output_type": "stream",
     "text": [
      "<class 'pandas.core.frame.DataFrame'>\n",
      "RangeIndex: 25 entries, 0 to 24\n",
      "Data columns (total 2 columns):\n",
      " #   Column              Non-Null Count  Dtype\n",
      "---  ------              --------------  -----\n",
      " 0   Experience (years)  25 non-null     int64\n",
      " 1   Salary (USD)        25 non-null     int64\n",
      "dtypes: int64(2)\n",
      "memory usage: 532.0 bytes\n",
      "None\n",
      "\n",
      "\n",
      "\n",
      "Count of all Missing values:\n",
      "\n",
      " Experience (years)    0\n",
      "Salary (USD)          0\n",
      "dtype: int64\n",
      "    Experience (years)\n",
      "0                    1\n",
      "1                    2\n",
      "2                    3\n",
      "3                    4\n",
      "4                    5\n",
      "5                    6\n",
      "6                    7\n",
      "7                    8\n",
      "8                    9\n",
      "9                   10\n",
      "10                  11\n",
      "11                  12\n",
      "12                  13\n",
      "13                  14\n",
      "14                  15\n",
      "15                  16\n",
      "16                  17\n",
      "17                  18\n",
      "18                  19\n",
      "19                  20\n",
      "20                  21\n",
      "21                  22\n",
      "22                  23\n",
      "23                  24\n",
      "24                  25\n",
      "\n",
      "\n",
      "\n",
      "\n",
      "    Salary (USD)\n",
      "0          52000\n",
      "1          55000\n",
      "2          58500\n",
      "3          62000\n",
      "4          65500\n",
      "5          69000\n",
      "6          72500\n",
      "7          76000\n",
      "8          79500\n",
      "9          83000\n",
      "10         86500\n",
      "11         90000\n",
      "12         93500\n",
      "13         97000\n",
      "14        100500\n",
      "15        104000\n",
      "16        107500\n",
      "17        111000\n",
      "18        114500\n",
      "19        118000\n",
      "20        121500\n",
      "21        125000\n",
      "22        128500\n",
      "23        132000\n",
      "24        135500\n"
     ]
    }
   ],
   "source": [
    "import pandas as pd\n",
    "import numpy as np\n",
    "import seaborn as sns\n",
    "import matplotlib.pyplot as plt\n",
    "from sklearn.linear_model import LinearRegression\n",
    "from sklearn.model_selection import train_test_split\n",
    "\n",
    "\n",
    "# Load the dataset\n",
    "df = pd.read_csv(\"D:\\\\nishan\\\\exsal.csv\")\n",
    "\n",
    "# Display dataset info\n",
    "print(df.info())\n",
    "\n",
    "# Check for missing values\n",
    "print(\"\\n\\n\\nCount of all Missing values:\\n\\n\", df.isna().sum())\n",
    "\n",
    "# Define dependent and independent variables\n",
    "x = df[['Experience (years)']]\n",
    "y = df[['Salary (USD)']]\n",
    "print(x)\n",
    "print(\"\\n\\n\\n\")\n",
    "print(y)"
   ]
  },
  {
   "cell_type": "code",
   "execution_count": 14,
   "id": "29cf9c8d-07cd-4724-8300-aa9882a8e4c4",
   "metadata": {},
   "outputs": [
    {
     "name": "stdout",
     "output_type": "stream",
     "text": [
      "x_train:\n",
      "     Experience (years)\n",
      "9                   10\n",
      "13                  14\n",
      "1                    2\n",
      "22                  23\n",
      "5                    6\n",
      "2                    3\n",
      "12                  13\n",
      "15                  16\n",
      "3                    4\n",
      "4                    5\n",
      "20                  21\n",
      "17                  18\n",
      "21                  22\n",
      "18                  19\n",
      "24                  25\n",
      "7                    8\n",
      "10                  11\n",
      "14                  15\n",
      "19                  20\n",
      "6                    7\n",
      "\n",
      "\n",
      "\n",
      "\n"
     ]
    }
   ],
   "source": [
    "# Split the data into training and testing sets\n",
    "x_train, x_test, y_train, y_test = train_test_split(x, y, test_size=0.2, random_state=42)\n",
    "\n",
    "# Print train and test sets\n",
    "print(\"x_train:\\n\", x_train)\n",
    "print(\"\\n\\n\\n\")"
   ]
  },
  {
   "cell_type": "code",
   "execution_count": 13,
   "id": "95a3c686-107c-451a-b83a-dda7f9b44a9b",
   "metadata": {},
   "outputs": [
    {
     "name": "stdout",
     "output_type": "stream",
     "text": [
      "x_test:\n",
      "     Experience (years)\n",
      "8                    9\n",
      "16                  17\n",
      "0                    1\n",
      "23                  24\n",
      "11                  12\n",
      "\n",
      "\n",
      "\n",
      "\n"
     ]
    }
   ],
   "source": [
    "print(\"x_test:\\n\", x_test)\n",
    "print(\"\\n\\n\\n\")\n"
   ]
  },
  {
   "cell_type": "code",
   "execution_count": 11,
   "id": "1949cabe-fdff-44ad-ab4f-3adb6444a8b7",
   "metadata": {},
   "outputs": [
    {
     "name": "stdout",
     "output_type": "stream",
     "text": [
      "y_train:\n",
      "     Salary (USD)\n",
      "9          83000\n",
      "13         97000\n",
      "1          55000\n",
      "22        128500\n",
      "5          69000\n",
      "2          58500\n",
      "12         93500\n",
      "15        104000\n",
      "3          62000\n",
      "4          65500\n",
      "20        121500\n",
      "17        111000\n",
      "21        125000\n",
      "18        114500\n",
      "24        135500\n",
      "7          76000\n",
      "10         86500\n",
      "14        100500\n",
      "19        118000\n",
      "6          72500\n",
      "\n",
      "\n",
      "\n",
      "\n"
     ]
    }
   ],
   "source": [
    "print(\"y_train:\\n\", y_train)\n",
    "print(\"\\n\\n\\n\")\n"
   ]
  },
  {
   "cell_type": "code",
   "execution_count": 12,
   "id": "6f92b00d-0ce1-4260-851a-472281369e2f",
   "metadata": {},
   "outputs": [
    {
     "name": "stdout",
     "output_type": "stream",
     "text": [
      "y_test:\n",
      "     Salary (USD)\n",
      "8          79500\n",
      "16        107500\n",
      "0          52000\n",
      "23        132000\n",
      "11         90000\n",
      "\n",
      "\n",
      "\n",
      "\n"
     ]
    }
   ],
   "source": [
    "print(\"y_test:\\n\", y_test)\n",
    "print(\"\\n\\n\\n\")"
   ]
  },
  {
   "cell_type": "code",
   "execution_count": null,
   "id": "72d65a2d-c090-4488-8640-88eebeed17a0",
   "metadata": {},
   "outputs": [],
   "source": []
  }
 ],
 "metadata": {
  "kernelspec": {
   "display_name": "Python 3 (ipykernel)",
   "language": "python",
   "name": "python3"
  },
  "language_info": {
   "codemirror_mode": {
    "name": "ipython",
    "version": 3
   },
   "file_extension": ".py",
   "mimetype": "text/x-python",
   "name": "python",
   "nbconvert_exporter": "python",
   "pygments_lexer": "ipython3",
   "version": "3.12.4"
  }
 },
 "nbformat": 4,
 "nbformat_minor": 5
}
