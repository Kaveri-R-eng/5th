{
 "cells": [
  {
   "cell_type": "code",
   "execution_count": null,
   "id": "4c01967b-99b8-415a-90a7-3afb5ad46caf",
   "metadata": {},
   "outputs": [],
   "source": [
    "import pandas as pd\n",
    "import seaborn as sns\n",
    "import matplotlib.pyplot as plt\n",
    "df=pd.read_csv(\"D:\\\\crypto\\\\coin_Bitcoin.csv\")\n",
    "df.info()"
   ]
  },
  {
   "cell_type": "code",
   "execution_count": null,
   "id": "cef8bf62-d234-4427-97b7-7c5b77ab1793",
   "metadata": {},
   "outputs": [],
   "source": [
    "print(df.isna().sum())"
   ]
  },
  {
   "cell_type": "code",
   "execution_count": null,
   "id": "1884c15e-71e6-4f83-872f-1a924161e968",
   "metadata": {},
   "outputs": [],
   "source": []
  },
  {
   "cell_type": "code",
   "execution_count": null,
   "id": "2f0d7d06-fb9a-43d5-ad31-3b0b3fca078b",
   "metadata": {},
   "outputs": [],
   "source": [
    "\n",
    "# List of columns to plot boxplots for (excluding 'Unnamed: 0')\n",
    "columns_to_plot = ['Open', 'High', 'Low', 'Close', 'Volume', 'Marketcap']\n",
    "\n",
    "# Set the size of the figure\n",
    "plt.figure(figsize=(15, 10))\n",
    "\n",
    "# Create a boxplot for each column\n",
    "for i, col in enumerate(columns_to_plot, 1):\n",
    "    plt.subplot(2, 3, i)  # Create a grid of 2 rows and 3 columns\n",
    "    sns.boxplot(x=df[col])\n",
    "    plt.title(f'Boxplot of {col}')\n",
    "\n",
    "plt.tight_layout()\n",
    "plt.show()"
   ]
  },
  {
   "cell_type": "code",
   "execution_count": null,
   "id": "dd24a2c4-6a2e-4c7d-842b-e3ad6b38c72e",
   "metadata": {},
   "outputs": [],
   "source": [
    "# List of columns to apply the IQR method\n",
    "columns = ['High', 'Low', 'Open', 'Close', 'Volume', 'Marketcap']\n",
    "\n",
    "# Function to remove outliers using IQR for multiple columns\n",
    "def remove_outliers_iqr(data, columns):\n",
    "    for column in columns:\n",
    "        Q1 = data[column].quantile(0.25)\n",
    "        Q3 = data[column].quantile(0.75)\n",
    "        IQR = Q3 - Q1\n",
    "        \n",
    "        lower_bound = Q1 - 1.5 * IQR\n",
    "        upper_bound = Q3 + 1.5 * IQR\n",
    "        \n",
    "        # Filter the data for each column\n",
    "        data = data[(data[column] >= lower_bound) & (data[column] <= upper_bound)]\n",
    "    return data\n",
    "\n",
    "# Apply the outlier removal function\n",
    "df_filtered = remove_outliers_iqr(df, columns)\n",
    "\n",
    "# Plot the data before and after outlier removal\n",
    "def plot_data_before_after(df_original, df_filtered, column):\n",
    "    plt.figure(figsize=(12, 6))\n",
    "    \n",
    "    # Original data\n",
    "    plt.subplot(1, 2, 1)\n",
    "    plt.plot(df_original['Date'], df_original[column], 'b-', label='Original Data')\n",
    "    plt.title(f'{column} Before Outlier Removal')\n",
    "    plt.xlabel('Date')\n",
    "    plt.ylabel(column)\n",
    "    \n",
    "    # Filtered data\n",
    "    plt.subplot(1, 2, 2)\n",
    "    plt.plot(df_filtered['Date'], df_filtered[column], 'g-', label='Filtered Data')\n",
    "    plt.title(f'{column} After Outlier Removal')\n",
    "    plt.xlabel('Date')\n",
    "    plt.ylabel(column)\n",
    "    \n",
    "    plt.tight_layout()\n",
    "    plt.show()\n",
    "\n",
    "# Plot graphs for each column before and after outlier removal\n",
    "for col in columns:\n",
    "    plot_data_before_after(df, df_filtered, col)\n"
   ]
  },
  {
   "cell_type": "code",
   "execution_count": null,
   "id": "a76a1fff-3263-43da-bbd4-9ff22c4f1c70",
   "metadata": {},
   "outputs": [],
   "source": []
  },
  {
   "cell_type": "code",
   "execution_count": null,
   "id": "490e348c-8f16-4981-8c3a-4a66e02e6726",
   "metadata": {},
   "outputs": [],
   "source": []
  }
 ],
 "metadata": {
  "kernelspec": {
   "display_name": "Python 3 (ipykernel)",
   "language": "python",
   "name": "python3"
  },
  "language_info": {
   "codemirror_mode": {
    "name": "ipython",
    "version": 3
   },
   "file_extension": ".py",
   "mimetype": "text/x-python",
   "name": "python",
   "nbconvert_exporter": "python",
   "pygments_lexer": "ipython3",
   "version": "3.12.4"
  }
 },
 "nbformat": 4,
 "nbformat_minor": 5
}
