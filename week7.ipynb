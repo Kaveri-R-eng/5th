{
 "cells": [
  {
   "cell_type": "markdown",
   "id": "e91babd6-c579-4988-bc46-ff5c91432ab2",
   "metadata": {},
   "source": [
    "# 50. Regression algorithms o Decision Tree Regressor o Random Forest Regressor o Support Vector Regression"
   ]
  },
  {
   "cell_type": "code",
   "execution_count": null,
   "id": "dc0e4a4e-6320-46f5-ad7e-330d7b51b132",
   "metadata": {},
   "outputs": [],
   "source": [
    "import pandas as pd\n",
    "from sklearn.metrics import r2_score\n",
    "from sklearn.model_selection import train_test_split\n",
    "from sklearn.impute import SimpleImputer\n",
    "from sklearn.tree import DecisionTreeRegressor\n",
    "from sklearn.ensemble import RandomForestRegressor\n",
    "from sklearn.svm import SVR\n",
    "\n",
    "# Load the Breast cancer dataset\n",
    "data=pd.read_csv(\"D:\\\\csss\\\\brcal.csv\")\n",
    "data.info()\n",
    "\n",
    "# Drop the 'id' column as it's not useful for the model\n",
    "# Drop the 'Unnamed: 32' column which contains only NaN values\n",
    "data.drop([\"id\", \"Unnamed: 32\"], axis=1, inplace=True)\n",
    "\n",
    "# Convert the diagnosis column to binary values (M=1, B=0)\n",
    "data['diagnosis'] = [1 if i == \"M\" else 0 for i in data.diagnosis]\n",
    "\n",
    "# Separate the features and the target variable\n",
    "x = data.drop([\"diagnosis\"], axis=1)\n",
    "y = data.diagnosis.values\n",
    "\n",
    "# Handle missing values by imputing with the mean of each column\n",
    "imputer = SimpleImputer(strategy='mean')\n",
    "x = imputer.fit_transform(x)\n",
    "\n",
    "# Split the data into training and testing sets\n",
    "x_train, x_test, y_train, y_test = train_test_split(x, y, test_size=0.3, random_state=42)\n",
    "\n",
    "# Decision Tree Regression\n",
    "model = DecisionTreeRegressor()\n",
    "model.fit(x_train, y_train)\n",
    "y_pred = model.predict(x_test)\n",
    "print(\"\\nAccuracy of the model using Decision tree regression algorithm is \", r2_score(y_test, y_pred))\n",
    "\n",
    "# Random Forest Regression\n",
    "model1 = RandomForestRegressor()\n",
    "model1.fit(x_train, y_train)\n",
    "y_pred1 = model1.predict(x_test)\n",
    "print(\"\\nAccuracy of the model using Random forest regression algorithm is \", r2_score(y_test, y_pred1))\n",
    "\n",
    "# Support Vector Regression\n",
    "model2 = SVR(kernel='rbf')\n",
    "model2.fit(x_train, y_train)\n",
    "y_pred2 = model2.predict(x_test)\n",
    "print(\"\\nAccuracy of the model using Support vector regression algorithm is \", r2_score(y_test, y_pred2))\n",
    "\n"
   ]
  },
  {
   "cell_type": "markdown",
   "id": "1029b4a9-9f45-4a22-8182-1a02e4119486",
   "metadata": {},
   "source": [
    "# 51. Build decision tree-based model for Breast Cancer Wisconsin (diagnostic) \n",
    " dataset.[Classifier]"
   ]
  },
  {
   "cell_type": "code",
   "execution_count": null,
   "id": "cc44f8f1-adab-473c-90be-d61d2a75e4fe",
   "metadata": {},
   "outputs": [],
   "source": [
    "import numpy as n\n",
    "import pandas as p\n",
    "import seaborn as s\n",
    "import matplotlib.pyplot as m\n",
    "from sklearn.metrics import r2_score\n",
    "from sklearn.tree import DecisionTreeClassifier\n",
    "from sklearn.model_selection import train_test_split\n",
    "from sklearn.metrics import accuracy_score,confusion_matrix\n",
    "data = p.read_csv(\"D:\\\\csss\\\\brcal1.csv\")\n",
    "data.info()\n",
    "data.drop([\"id\"],axis=1,inplace=True)\n",
    "M=data[data.diagnosis==\"M\"]\n",
    "B=data[data.diagnosis==\"B\"]\n",
    "m.title(\"Malignant vs Benign Tumor\")\n",
    "m.xlabel(\"Radius Mean\"); m.ylabel(\"Texture Mean\")\n",
    "m.scatter(M.radius_mean,M.texture_mean,color='red',label='Malignant',alpha=0.3)\n",
    "m.scatter(B.radius_mean,B.texture_mean,color='lime',label='Bengin',alpha=0.4)\n",
    "m.legend(); m.show()\n",
    "data.diagnosis=[1 if i == \"M\" else 0 for i in data.diagnosis]\n",
    "x=data.drop([\"diagnosis\"],axis=1)\n",
    "y=data.diagnosis.values\n",
    "x_train,x_test,y_train,y_test=train_test_split(x,y,test_size=0.3,random_state=42)\n",
    "dt=DecisionTreeClsassifier()\n",
    "dt.fit(x_train,y_train)\n",
    "y_pred=dt.predict(x_test)\n",
    "#Confusion Matrix\n",
    "cm = confusion_matrix(y_test,y_pred)\n",
    "s.heatmap(cm,annot=True,fmt='d',cmap=\"Blues\")\n",
    "m.title(\"Confusion matrics \")\n",
    "m.show()\n",
    "print(\"Accuracy of the classifier model is\",accuracy_score(y_test,y_pred))"
   ]
  },
  {
   "cell_type": "code",
   "execution_count": null,
   "id": "58edfec6-c2f4-4caf-b705-68c63e10f3b1",
   "metadata": {},
   "outputs": [],
   "source": []
  },
  {
   "cell_type": "code",
   "execution_count": null,
   "id": "2ec395c5-9b07-4309-be19-b1813692d59f",
   "metadata": {},
   "outputs": [],
   "source": []
  }
 ],
 "metadata": {
  "kernelspec": {
   "display_name": "Python 3 (ipykernel)",
   "language": "python",
   "name": "python3"
  },
  "language_info": {
   "codemirror_mode": {
    "name": "ipython",
    "version": 3
   },
   "file_extension": ".py",
   "mimetype": "text/x-python",
   "name": "python",
   "nbconvert_exporter": "python",
   "pygments_lexer": "ipython3",
   "version": "3.12.4"
  }
 },
 "nbformat": 4,
 "nbformat_minor": 5
}
